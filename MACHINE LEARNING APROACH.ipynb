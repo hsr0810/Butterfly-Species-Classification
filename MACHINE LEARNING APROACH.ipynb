{
 "cells": [
  {
   "cell_type": "markdown",
   "id": "02d0ccd2",
   "metadata": {},
   "source": [
    "# MACHINE LEARNING APPROACH"
   ]
  },
  {
   "cell_type": "code",
   "execution_count": 1,
   "id": "034f57c8",
   "metadata": {},
   "outputs": [],
   "source": [
    "import cv2\n",
    "import os\n",
    "import pandas as pd"
   ]
  },
  {
   "cell_type": "code",
   "execution_count": 2,
   "id": "7b3cf585",
   "metadata": {},
   "outputs": [],
   "source": [
    "# Define a function to extract RGB values from an image\n",
    "def extract_color_values(image_path):\n",
    "    image = cv2.imread(image_path)\n",
    "    b, g, r = cv2.split(image)\n",
    "    \n",
    "    hsv_image = cv2.cvtColor(image, cv2.COLOR_BGR2HSV)\n",
    "    h, s, v = cv2.split(hsv_image) \n",
    "\n",
    "    lab_image = cv2.cvtColor(image, cv2.COLOR_BGR2LAB)\n",
    "    l, a, b_lab = cv2.split(lab_image)\n",
    "    \n",
    "    return r.mean(), g.mean(), b.mean(),h.mean(), s.mean(), v.mean(),l.mean(), a.mean(), b_lab.mean()"
   ]
  },
  {
   "cell_type": "code",
   "execution_count": 3,
   "id": "d4647ee6",
   "metadata": {},
   "outputs": [],
   "source": [
    "# Define a function to process multiple folders of images\n",
    "def process_folders(folder_paths, labels):\n",
    "    data = []\n",
    "    for folder_path, label in zip(folder_paths, labels):\n",
    "        for filename in os.listdir(folder_path):\n",
    "            if filename.endswith(\".jpg\") or filename.endswith(\".png\"): \n",
    "                image_path = os.path.join(folder_path, filename)\n",
    "                r, g, b,h, s, v,l, a, b_lab = extract_color_values(image_path)\n",
    "                #r, g, b = rgb\n",
    "                #h, s, v = hsv\n",
    "                #l, a, b_lab = lab\n",
    "                data.append({\n",
    "                    'Image Name': filename,\n",
    "                    'Red': r,\n",
    "                    'Green': g,\n",
    "                    'Blue': b,\n",
    "                    'Hue': h,\n",
    "                    'Saturation': s,\n",
    "                    'Value': v,\n",
    "                    'L': l,\n",
    "                    'A': a,\n",
    "                    'B': b_lab,\n",
    "                    'Label': label\n",
    "                })\n",
    "    return data"
   ]
  },
  {
   "cell_type": "code",
   "execution_count": 4,
   "id": "defb03e0",
   "metadata": {},
   "outputs": [],
   "source": [
    "# Specify the folder path and labels\n",
    "folder_paths = ['C:/Users/User/Downloads/Dataset/zebra long wing', 'C:/Users/User/Downloads/Dataset/wood satyr']\n",
    "labels = [1, 0]"
   ]
  },
  {
   "cell_type": "code",
   "execution_count": 5,
   "id": "cb8b3895",
   "metadata": {},
   "outputs": [],
   "source": [
    "data = process_folders(folder_paths, labels)\n",
    "\n",
    "# Create a DataFrame and save it to an Excel file\n",
    "df = pd.DataFrame(data)\n",
    "df.to_excel('extracted_feature.xlsx', index=False)"
   ]
  },
  {
   "cell_type": "code",
   "execution_count": 6,
   "id": "7ee94724",
   "metadata": {},
   "outputs": [
    {
     "name": "stdout",
     "output_type": "stream",
     "text": [
      "    Image Name         Red       Green        Blue        Hue  Saturation  \\\n",
      "0      000.jpg   97.919120   98.256835   87.277000  40.996323   60.638388   \n",
      "1      001.jpg  109.386039   73.495937   46.195673  23.127814  145.195938   \n",
      "2      002.jpg   96.830002  110.915227   75.909768  43.739048  103.573156   \n",
      "3      003.jpg   92.024034   93.962347   66.527142  32.500055  100.523374   \n",
      "4      004.jpg   86.752942   87.466574   58.931588  33.555442  110.056717   \n",
      "..         ...         ...         ...         ...        ...         ...   \n",
      "185    087.jpg  137.908292  136.374694   85.006842  25.774663  120.020067   \n",
      "186    088.jpg   78.364395   97.975266   39.686118  32.012033  156.007288   \n",
      "187    089.jpg   94.310051   99.830265   60.070091  32.598352  135.352086   \n",
      "188    090.jpg  130.402507  139.851264  117.062772  51.678372   66.423873   \n",
      "189    091.jpg  140.800973  142.984808   81.720183  28.225859  138.753457   \n",
      "\n",
      "          Value           L           A           B  Label  \n",
      "0    104.502986  102.464192  126.192390  134.396698      1  \n",
      "1    112.952529   88.212515  139.336349  149.934327      1  \n",
      "2    111.724024  110.754478  116.641597  144.994451      1  \n",
      "3     98.123405   95.205016  123.231508  142.927756      1  \n",
      "4     93.377073   91.031845  122.713761  144.552479      1  \n",
      "..          ...         ...         ...         ...    ...  \n",
      "185  154.682445  142.920598  121.256944  155.625817      0  \n",
      "186  105.895645  100.042731  112.682905  156.010274      0  \n",
      "187  110.250141  103.540152  119.219136  149.488797      0  \n",
      "188  145.395447  143.763246  120.383569  139.623239      0  \n",
      "189  160.948896  147.080844  119.533602  159.960348      0  \n",
      "\n",
      "[190 rows x 11 columns]\n"
     ]
    }
   ],
   "source": [
    " df= pd.read_excel('extracted_feature.xlsx')\n",
    "print(df)"
   ]
  },
  {
   "cell_type": "code",
   "execution_count": 9,
   "id": "9d6b878a",
   "metadata": {},
   "outputs": [
    {
     "name": "stdout",
     "output_type": "stream",
     "text": [
      "Accuracy Score: 0.7368421052631579\n",
      "Precision Score: 0.6956521739130435\n",
      "Recall Score: 0.8421052631578947\n",
      "F1 Score 0.761904761904762\n"
     ]
    }
   ],
   "source": [
    "# FOR KNN\n",
    "\n",
    "x = df[['Red', 'Green', 'Blue','Hue','Saturation','Value','L','A','B']]\n",
    "y = df['Label']\n",
    "\n",
    "from sklearn.model_selection import train_test_split\n",
    "x_train, x_test, y_train, y_test = train_test_split(x, y, test_size=0.2)\n",
    "\n",
    "from sklearn.neighbors import KNeighborsClassifier\n",
    "classifier = KNeighborsClassifier()\n",
    "classifier.fit(x_train, y_train)\n",
    "\n",
    "y_pred = classifier.predict(x_test)\n",
    "\n",
    "from sklearn.metrics import accuracy_score, precision_score, recall_score, f1_score\n",
    "\n",
    "print (\"Accuracy Score:\",accuracy_score(y_test, y_pred))\n",
    "print (\"Precision Score:\",precision_score(y_test, y_pred))\n",
    "print (\"Recall Score:\",recall_score(y_test, y_pred))\n",
    "print (\"F1 Score\",f1_score(y_test, y_pred))"
   ]
  },
  {
   "cell_type": "code",
   "execution_count": 10,
   "id": "f05c751c",
   "metadata": {},
   "outputs": [
    {
     "name": "stdout",
     "output_type": "stream",
     "text": [
      "Accuracy Score: 81.57894736842105\n",
      "Precision Score: 86.36363636363636\n",
      "Recall Score: 82.6086956521739\n",
      "F1 Score 84.44444444444444\n"
     ]
    }
   ],
   "source": [
    "# FOR DECISION TREE\n",
    "\n",
    "x=df[['Red', 'Green', 'Blue','Hue','Saturation','Value','L','A','B']]\n",
    "y= df['Label']\n",
    "\n",
    "from sklearn.model_selection import train_test_split\n",
    "x_train,x_test,y_train,y_test= train_test_split(x,y,test_size=0.2)\n",
    "\n",
    "from sklearn import tree \n",
    "classifier= tree.DecisionTreeClassifier()\n",
    "\n",
    "classifier.fit(x_train,y_train)\n",
    "y_pred= classifier.predict(x_test)\n",
    "\n",
    "from sklearn.metrics import accuracy_score, precision_score, recall_score, f1_score\n",
    "\n",
    "print (\"Accuracy Score:\",accuracy_score(y_test, y_pred)*100)\n",
    "print (\"Precision Score:\",precision_score(y_test, y_pred)*100)\n",
    "print (\"Recall Score:\",recall_score(y_test, y_pred)*100)\n",
    "print (\"F1 Score\",f1_score(y_test, y_pred)*100)"
   ]
  },
  {
   "cell_type": "code",
   "execution_count": null,
   "id": "4d2647d5",
   "metadata": {},
   "outputs": [],
   "source": [
    "# FOR RANDOM FOREST\n",
    "\n",
    "x = df[['Red', 'Green', 'Blue','Hue','Saturation','Value','L','A','B']]\n",
    "y = df['Label']\n",
    "\n",
    "from sklearn.model_selection import train_test_split\n",
    "x_train, x_test, y_train, y_test = train_test_split(x, y, test_size=0.2)\n",
    "\n",
    "from sklearn.ensemble import RandomForestClassifier\n",
    "classifier = RandomForestClassifier()\n",
    "\n",
    "classifier.fit(x_train, y_train)\n",
    "\n",
    "y_pred = classifier.predict(x_test)\n",
    "\n",
    "print (\"Accuracy Score:\",accuracy_score(y_test, y_pred)*100)\n",
    "print (\"Precision Score:\",precision_score(y_test, y_pred)*100)\n",
    "print (\"Recall Score:\",recall_score(y_test, y_pred)*100)\n",
    "print (\"F1 Score\",f1_score(y_test, y_pred)*100)"
   ]
  },
  {
   "cell_type": "code",
   "execution_count": null,
   "id": "8ac967cf",
   "metadata": {},
   "outputs": [],
   "source": []
  }
 ],
 "metadata": {
  "kernelspec": {
   "display_name": "Python 3 (ipykernel)",
   "language": "python",
   "name": "python3"
  },
  "language_info": {
   "codemirror_mode": {
    "name": "ipython",
    "version": 3
   },
   "file_extension": ".py",
   "mimetype": "text/x-python",
   "name": "python",
   "nbconvert_exporter": "python",
   "pygments_lexer": "ipython3",
   "version": "3.11.4"
  }
 },
 "nbformat": 4,
 "nbformat_minor": 5
}
